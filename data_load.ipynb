{
 "cells": [
  {
   "cell_type": "code",
   "execution_count": 3,
   "id": "a53be17a-1063-43f1-9ac3-b771a71eba13",
   "metadata": {},
   "outputs": [],
   "source": [
    "from pycocotools.coco import COCO\n",
    "import os\n",
    "import numpy as np\n",
    "import cv2\n",
    "import PIL.Image as Image\n",
    "import matplotlib.pyplot as plt\n",
    "import time\n",
    "import tensorflow as tf"
   ]
  },
  {
   "cell_type": "code",
   "execution_count": 4,
   "id": "81faa920-6447-488f-9715-6847335addd3",
   "metadata": {},
   "outputs": [
    {
     "name": "stdout",
     "output_type": "stream",
     "text": [
      "2.5.0\n"
     ]
    }
   ],
   "source": [
    "print(tf.__version__)"
   ]
  },
  {
   "cell_type": "code",
   "execution_count": 5,
   "id": "4c532068-4c12-4854-8ae0-49742c981574",
   "metadata": {},
   "outputs": [],
   "source": [
    "dataDir = '../coco'\n",
    "annVal = os.path.join(dataDir, 'annotations' ,'instances_val2017.json')"
   ]
  },
  {
   "cell_type": "code",
   "execution_count": 6,
   "id": "635b0a36-cffc-45a9-a2f4-1f00b329769f",
   "metadata": {},
   "outputs": [
    {
     "name": "stdout",
     "output_type": "stream",
     "text": [
      "loading annotations into memory...\n",
      "Done (t=0.51s)\n",
      "creating index...\n",
      "index created!\n",
      "<pycocotools.coco.COCO object at 0x00000213E79E6588>\n"
     ]
    }
   ],
   "source": [
    "coco = COCO(annVal)\n",
    "print(coco)"
   ]
  },
  {
   "cell_type": "code",
   "execution_count": 7,
   "id": "a0c8f113-2a51-4d6a-9685-88d743ee4299",
   "metadata": {},
   "outputs": [],
   "source": [
    "imgLen = len(coco.getImgIds())"
   ]
  },
  {
   "cell_type": "code",
   "execution_count": null,
   "id": "c13f0725-a216-46af-a02b-7fb39bd2a567",
   "metadata": {},
   "outputs": [],
   "source": []
  }
 ],
 "metadata": {
  "kernelspec": {
   "display_name": "ai",
   "language": "python",
   "name": "ai"
  },
  "language_info": {
   "codemirror_mode": {
    "name": "ipython",
    "version": 3
   },
   "file_extension": ".py",
   "mimetype": "text/x-python",
   "name": "python",
   "nbconvert_exporter": "python",
   "pygments_lexer": "ipython3",
   "version": "3.7.0"
  }
 },
 "nbformat": 4,
 "nbformat_minor": 5
}
